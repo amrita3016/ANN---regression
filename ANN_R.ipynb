{
  "nbformat": 4,
  "nbformat_minor": 0,
  "metadata": {
    "colab": {
      "provenance": [],
      "authorship_tag": "ABX9TyMHRRkAkgpRn9ULhoBra2kS"
    },
    "kernelspec": {
      "name": "python3",
      "display_name": "Python 3"
    },
    "language_info": {
      "name": "python"
    }
  },
  "cells": [
    {
      "cell_type": "code",
      "execution_count": 29,
      "metadata": {
        "id": "AZIH6A1RwlcO"
      },
      "outputs": [],
      "source": [
        "import numpy as np   \n",
        "import pandas as pd\n",
        "import tensorflow as tf"
      ]
    },
    {
      "cell_type": "code",
      "source": [
        "tf.__version__"
      ],
      "metadata": {
        "colab": {
          "base_uri": "https://localhost:8080/",
          "height": 35
        },
        "id": "C72kpIwMyGV4",
        "outputId": "89cfe53b-0dbd-4b6a-a49e-df5555571285"
      },
      "execution_count": 30,
      "outputs": [
        {
          "output_type": "execute_result",
          "data": {
            "text/plain": [
              "'2.11.0'"
            ],
            "application/vnd.google.colaboratory.intrinsic+json": {
              "type": "string"
            }
          },
          "metadata": {},
          "execution_count": 30
        }
      ]
    },
    {
      "cell_type": "code",
      "source": [
        "df = pd.read_excel('/content/ann.xlsx')  #combined cycle power plant dataset\n",
        "X = df.iloc[:, :-1].values            # features are temperature,pressure,humidity,exhaust vaccum,energy output\n",
        "y = df.iloc[:, -1].values"
      ],
      "metadata": {
        "id": "iE1gKwAyySec"
      },
      "execution_count": 31,
      "outputs": []
    },
    {
      "cell_type": "code",
      "source": [
        "print(X)"
      ],
      "metadata": {
        "colab": {
          "base_uri": "https://localhost:8080/"
        },
        "id": "aQvpdOD_0aUJ",
        "outputId": "6218ea29-61cb-47f2-c483-1edc6f6fbe3d"
      },
      "execution_count": 32,
      "outputs": [
        {
          "output_type": "stream",
          "name": "stdout",
          "text": [
            "[[  14.96   41.76 1024.07   73.17]\n",
            " [  25.18   62.96 1020.04   59.08]\n",
            " [   5.11   39.4  1012.16   92.14]\n",
            " ...\n",
            " [  31.32   74.33 1012.92   36.48]\n",
            " [  24.48   69.45 1013.86   62.39]\n",
            " [  21.6    62.52 1017.23   67.87]]\n"
          ]
        }
      ]
    },
    {
      "cell_type": "code",
      "source": [
        "print(y)"
      ],
      "metadata": {
        "colab": {
          "base_uri": "https://localhost:8080/"
        },
        "id": "oXH89fnN0hZn",
        "outputId": "d76ca25b-4eb4-4152-e013-d46f4ae3b8f3"
      },
      "execution_count": 33,
      "outputs": [
        {
          "output_type": "stream",
          "name": "stdout",
          "text": [
            "[463.26 444.37 488.56 ... 429.57 435.74 453.28]\n"
          ]
        }
      ]
    },
    {
      "cell_type": "code",
      "source": [
        "from sklearn.model_selection import train_test_split\n",
        "X_train, X_test, y_train, y_test = train_test_split(X, y, test_size = 0.2, random_state = 2)"
      ],
      "metadata": {
        "id": "B30tvDhB1Jzg"
      },
      "execution_count": 34,
      "outputs": []
    },
    {
      "cell_type": "code",
      "source": [
        "ann = tf.keras.models.Sequential()  #from keras library"
      ],
      "metadata": {
        "id": "9IIegO9b1LH-"
      },
      "execution_count": 35,
      "outputs": []
    },
    {
      "cell_type": "code",
      "source": [
        "ann.add(tf.keras.layers.Dense(units = 6, activation='relu')) "
      ],
      "metadata": {
        "id": "MrIv54kC1q1u"
      },
      "execution_count": 36,
      "outputs": []
    },
    {
      "cell_type": "code",
      "source": [
        "ann.add(tf.keras.layers.Dense(units = 6, activation='relu')) "
      ],
      "metadata": {
        "id": "TzAB9yG21t1o"
      },
      "execution_count": 37,
      "outputs": []
    },
    {
      "cell_type": "code",
      "source": [
        "ann.add(tf.keras.layers.Dense(units = 1))  #no activation for regression for classification of binary use sigmoid else use soft max function"
      ],
      "metadata": {
        "id": "u5iRMdNe1z2F"
      },
      "execution_count": 38,
      "outputs": []
    },
    {
      "cell_type": "code",
      "source": [
        "ann.compile(optimizer = 'adam', loss = 'mean_squared_error')  # loss = MSE for regression"
      ],
      "metadata": {
        "id": "U5nu7P3s1z5c"
      },
      "execution_count": 39,
      "outputs": []
    },
    {
      "cell_type": "code",
      "source": [
        "ann.fit(X_train, y_train, batch_size = 32, epochs = 100)"
      ],
      "metadata": {
        "colab": {
          "base_uri": "https://localhost:8080/"
        },
        "id": "4c0FZbDW10JS",
        "outputId": "02d9fb5b-20ba-4681-cde0-2ab9cf75cd1c"
      },
      "execution_count": null,
      "outputs": [
        {
          "output_type": "stream",
          "name": "stdout",
          "text": [
            "Epoch 1/100\n",
            "240/240 [==============================] - 1s 1ms/step - loss: 22134.8574\n",
            "Epoch 2/100\n",
            "240/240 [==============================] - 0s 1ms/step - loss: 194.9318\n",
            "Epoch 3/100\n",
            "240/240 [==============================] - 0s 1ms/step - loss: 187.7394\n",
            "Epoch 4/100\n",
            "240/240 [==============================] - 0s 1ms/step - loss: 179.0909\n",
            "Epoch 5/100\n",
            "240/240 [==============================] - 0s 1ms/step - loss: 168.8105\n",
            "Epoch 6/100\n",
            "240/240 [==============================] - 0s 1ms/step - loss: 157.8611\n",
            "Epoch 7/100\n",
            "240/240 [==============================] - 0s 1ms/step - loss: 145.8643\n",
            "Epoch 8/100\n",
            "240/240 [==============================] - 0s 1ms/step - loss: 132.6554\n",
            "Epoch 9/100\n",
            "240/240 [==============================] - 0s 1ms/step - loss: 119.3909\n",
            "Epoch 10/100\n",
            "240/240 [==============================] - 0s 1ms/step - loss: 106.7271\n",
            "Epoch 11/100\n",
            "240/240 [==============================] - 0s 1ms/step - loss: 93.4718\n",
            "Epoch 12/100\n",
            "240/240 [==============================] - 0s 1ms/step - loss: 81.6171\n",
            "Epoch 13/100\n",
            "240/240 [==============================] - 0s 2ms/step - loss: 70.6892\n",
            "Epoch 14/100\n",
            "240/240 [==============================] - 0s 2ms/step - loss: 60.1906\n",
            "Epoch 15/100\n",
            "240/240 [==============================] - 0s 2ms/step - loss: 51.8978\n",
            "Epoch 16/100\n",
            "240/240 [==============================] - 0s 1ms/step - loss: 45.0844\n",
            "Epoch 17/100\n",
            "240/240 [==============================] - 0s 2ms/step - loss: 39.6040\n",
            "Epoch 18/100\n",
            "240/240 [==============================] - 0s 1ms/step - loss: 35.7748\n",
            "Epoch 19/100\n",
            "240/240 [==============================] - 0s 1ms/step - loss: 33.4199\n",
            "Epoch 20/100\n",
            "240/240 [==============================] - 0s 1ms/step - loss: 31.4025\n",
            "Epoch 21/100\n",
            "240/240 [==============================] - 0s 1ms/step - loss: 30.1888\n",
            "Epoch 22/100\n",
            "240/240 [==============================] - 0s 1ms/step - loss: 29.7997\n",
            "Epoch 23/100\n",
            "240/240 [==============================] - 0s 1ms/step - loss: 29.2494\n",
            "Epoch 24/100\n",
            "240/240 [==============================] - 0s 1ms/step - loss: 28.7800\n",
            "Epoch 25/100\n",
            "240/240 [==============================] - 0s 1ms/step - loss: 28.7595\n",
            "Epoch 26/100\n",
            "240/240 [==============================] - 0s 1ms/step - loss: 28.3255\n",
            "Epoch 27/100\n",
            "240/240 [==============================] - 0s 1ms/step - loss: 28.1515\n",
            "Epoch 28/100\n",
            "240/240 [==============================] - 0s 1ms/step - loss: 28.5302\n",
            "Epoch 29/100\n",
            "240/240 [==============================] - 0s 1ms/step - loss: 28.2333\n",
            "Epoch 30/100\n",
            "240/240 [==============================] - 0s 1ms/step - loss: 27.5332\n",
            "Epoch 31/100\n",
            "240/240 [==============================] - 0s 1ms/step - loss: 28.0752\n",
            "Epoch 32/100\n",
            "240/240 [==============================] - 0s 1ms/step - loss: 27.8512\n",
            "Epoch 33/100\n",
            "240/240 [==============================] - 0s 1ms/step - loss: 28.0854\n",
            "Epoch 34/100\n",
            "240/240 [==============================] - 0s 1ms/step - loss: 28.7252\n",
            "Epoch 35/100\n",
            "240/240 [==============================] - 0s 1ms/step - loss: 27.3839\n",
            "Epoch 36/100\n",
            "240/240 [==============================] - 0s 1ms/step - loss: 27.9560\n",
            "Epoch 37/100\n",
            "240/240 [==============================] - 0s 1ms/step - loss: 27.3872\n",
            "Epoch 38/100\n",
            "240/240 [==============================] - 0s 1ms/step - loss: 27.5613\n",
            "Epoch 39/100\n",
            "240/240 [==============================] - 0s 1ms/step - loss: 27.3782\n",
            "Epoch 40/100\n",
            "240/240 [==============================] - 0s 1ms/step - loss: 27.6481\n",
            "Epoch 41/100\n",
            "240/240 [==============================] - 0s 1ms/step - loss: 27.2690\n",
            "Epoch 42/100\n",
            "240/240 [==============================] - 0s 1ms/step - loss: 27.5392\n",
            "Epoch 43/100\n",
            "240/240 [==============================] - 0s 1ms/step - loss: 27.5876\n",
            "Epoch 44/100\n",
            "240/240 [==============================] - 0s 1ms/step - loss: 27.2777\n",
            "Epoch 45/100\n",
            "240/240 [==============================] - 0s 1ms/step - loss: 27.0061\n",
            "Epoch 46/100\n",
            "240/240 [==============================] - 0s 1ms/step - loss: 27.5152\n",
            "Epoch 47/100\n",
            "240/240 [==============================] - 0s 1ms/step - loss: 27.3142\n",
            "Epoch 48/100\n",
            "240/240 [==============================] - 0s 1ms/step - loss: 26.6886\n",
            "Epoch 49/100\n",
            "240/240 [==============================] - 0s 1ms/step - loss: 27.2686\n",
            "Epoch 50/100\n",
            "240/240 [==============================] - 0s 1ms/step - loss: 27.2656\n",
            "Epoch 51/100\n",
            "240/240 [==============================] - 0s 1ms/step - loss: 27.5587\n",
            "Epoch 52/100\n",
            "240/240 [==============================] - 0s 2ms/step - loss: 27.0337\n",
            "Epoch 53/100\n",
            "240/240 [==============================] - 0s 1ms/step - loss: 27.2052\n",
            "Epoch 54/100\n",
            "240/240 [==============================] - 0s 2ms/step - loss: 27.1787\n",
            "Epoch 55/100\n",
            "240/240 [==============================] - 0s 1ms/step - loss: 26.7153\n",
            "Epoch 56/100\n",
            "240/240 [==============================] - 0s 2ms/step - loss: 27.5948\n",
            "Epoch 57/100\n",
            "240/240 [==============================] - 0s 1ms/step - loss: 27.3772\n",
            "Epoch 58/100\n",
            "240/240 [==============================] - 0s 1ms/step - loss: 27.0559\n",
            "Epoch 59/100\n",
            "240/240 [==============================] - 0s 1ms/step - loss: 27.0186\n",
            "Epoch 60/100\n",
            "240/240 [==============================] - 0s 1ms/step - loss: 26.6808\n",
            "Epoch 61/100\n",
            "240/240 [==============================] - 0s 1ms/step - loss: 26.9102\n",
            "Epoch 62/100\n",
            "240/240 [==============================] - 0s 1ms/step - loss: 26.8480\n",
            "Epoch 63/100\n",
            "240/240 [==============================] - 0s 1ms/step - loss: 27.1834\n",
            "Epoch 64/100\n",
            "240/240 [==============================] - 0s 1ms/step - loss: 26.8926\n",
            "Epoch 65/100\n",
            "240/240 [==============================] - 0s 1ms/step - loss: 27.3434\n",
            "Epoch 66/100\n",
            "240/240 [==============================] - 0s 1ms/step - loss: 27.3659\n",
            "Epoch 67/100\n",
            "240/240 [==============================] - 0s 1ms/step - loss: 27.5287\n"
          ]
        }
      ]
    },
    {
      "cell_type": "code",
      "source": [
        "y_pred = ann.predict(X_test)\n",
        "np.set_printoptions(precision=2)\n",
        "print(np.concatenate((y_pred.reshape(len(y_pred),1), y_test.reshape(len(y_test),1)),1))"
      ],
      "metadata": {
        "id": "eB2ylO9m3UUe"
      },
      "execution_count": null,
      "outputs": []
    },
    {
      "cell_type": "code",
      "source": [],
      "metadata": {
        "id": "zc6ppJie3sRQ"
      },
      "execution_count": null,
      "outputs": []
    }
  ]
}